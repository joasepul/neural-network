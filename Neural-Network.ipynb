{
 "cells": [
  {
   "cell_type": "code",
   "execution_count": 5,
   "metadata": {},
   "outputs": [],
   "source": [
    "# Multilayer perceptron from scratch\n",
    "#   Author: Jose Sepulveda\n",
    "#   Date:   1/24/2019\n",
    "#   Description: This will be a simple 3-layer FFNN for regression (single node output). \n",
    "                \n",
    "import math\n",
    "import numpy as np"
   ]
  },
  {
   "cell_type": "code",
   "execution_count": 8,
   "metadata": {},
   "outputs": [],
   "source": [
    "# This sigmoid function will act as our networks activation function\n",
    "# It is useful for this because it is differentiable, meaning\n",
    "# we can use it's derivative to find the direction of the minimum\n",
    "# which we need to do in order to learn the optimum wieghts.\n",
    "def sigmoid(x):\n",
    "    \"\"\" Domain: (-inf, +inf)\n",
    "        Range:  (0, 1)\n",
    "    \"\"\"\n",
    "    return 1 / (1+ math.exp(-x))"
   ]
  },
  {
   "cell_type": "code",
   "execution_count": 11,
   "metadata": {},
   "outputs": [
    {
     "data": {
      "text/plain": [
       "3.7200759760208356e-44"
      ]
     },
     "execution_count": 11,
     "metadata": {},
     "output_type": "execute_result"
    }
   ],
   "source": [
    "class InputLayer:\n",
    "    \n",
    "    \n",
    "    def __init__(self, inputs):\n",
    "        self.inputs = inputs\n",
    "        \n",
    "    def next_layer(self, layer):\n",
    "        self.next = layer\n",
    "        \n",
    "        # We need to dot the inputs and wieghts\n",
    "        # then use the activation function and pass \n",
    "        # to next layer\n",
    "        \n",
    "        # dot product of inputs and wieghts\n",
    "        \n",
    "        # activation function\n",
    "        \n",
    "        # pass to next layer"
   ]
  },
  {
   "cell_type": "code",
   "execution_count": null,
   "metadata": {},
   "outputs": [],
   "source": []
  }
 ],
 "metadata": {
  "kernelspec": {
   "display_name": "Python 3",
   "language": "python",
   "name": "python3"
  },
  "language_info": {
   "codemirror_mode": {
    "name": "ipython",
    "version": 3
   },
   "file_extension": ".py",
   "mimetype": "text/x-python",
   "name": "python",
   "nbconvert_exporter": "python",
   "pygments_lexer": "ipython3",
   "version": "3.6.5"
  }
 },
 "nbformat": 4,
 "nbformat_minor": 2
}
